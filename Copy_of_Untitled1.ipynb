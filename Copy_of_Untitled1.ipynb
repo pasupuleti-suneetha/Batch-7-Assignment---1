{
  "nbformat": 4,
  "nbformat_minor": 0,
  "metadata": {
    "colab": {
      "name": "Copy of Untitled1.ipynb",
      "provenance": [],
      "collapsed_sections": [],
      "authorship_tag": "ABX9TyMzOs5KTnzkEQ2rz2tlckHW",
      "include_colab_link": true
    },
    "kernelspec": {
      "name": "python3",
      "display_name": "Python 3"
    }
  },
  "cells": [
    {
      "cell_type": "markdown",
      "metadata": {
        "id": "view-in-github",
        "colab_type": "text"
      },
      "source": [
        "<a href=\"https://colab.research.google.com/github/pasupuleti-suneetha/Batch-7-Assignment---1/blob/master/Copy_of_Untitled1.ipynb\" target=\"_parent\"><img src=\"https://colab.research.google.com/assets/colab-badge.svg\" alt=\"Open In Colab\"/></a>"
      ]
    },
    {
      "cell_type": "code",
      "metadata": {
        "id": "4336Cy13J2kB",
        "colab_type": "code",
        "colab": {
          "base_uri": "https://localhost:8080/",
          "height": 54
        },
        "outputId": "01cb231b-c2a0-45c9-e483-9eac9de24816"
      },
      "source": [
        "#List\n",
        "#A list is created by placing all items.  \n",
        "lst=[\"suneetha\", 20,19.63,[8,9,6]] \n",
        "lst"
      ],
      "execution_count": null,
      "outputs": [
        {
          "output_type": "execute_result",
          "data": {
            "text/plain": [
              "['suneetha', 20, 19.63, [8, 9, 6]]"
            ]
          },
          "metadata": {
            "tags": []
          },
          "execution_count": 4
        }
      ]
    },
    {
      "cell_type": "code",
      "metadata": {
        "id": "vp1bAO03tOx3",
        "colab_type": "code",
        "colab": {}
      },
      "source": [
        ""
      ],
      "execution_count": null,
      "outputs": []
    },
    {
      "cell_type": "code",
      "metadata": {
        "id": "cM2qFetHLCgO",
        "colab_type": "code",
        "colab": {
          "base_uri": "https://localhost:8080/",
          "height": 54
        },
        "outputId": "49ba3b84-c4f6-4737-d29f-222407b253ff"
      },
      "source": [
        "#Methods of list \n",
        "lst. append(\"Bunty\") \n",
        "# append() Adds an element at the end of the list. \n",
        "lst"
      ],
      "execution_count": null,
      "outputs": [
        {
          "output_type": "execute_result",
          "data": {
            "text/plain": [
              "['suneetha', 20, 20, 19.63, [8, 9, 6], 'Bunty', 'Bunty']"
            ]
          },
          "metadata": {
            "tags": []
          },
          "execution_count": 12
        }
      ]
    },
    {
      "cell_type": "code",
      "metadata": {
        "id": "gpaq5JSmMrUD",
        "colab_type": "code",
        "colab": {
          "base_uri": "https://localhost:8080/",
          "height": 339
        },
        "outputId": "97796fad-a262-4917-eac3-bf71acb25eed"
      },
      "source": [
        "#index returns the index of the first element with the specified values\n",
        "lst=[\"suneetha\", 20,19.63, [8,9,6]] \n",
        "lst.index(1)"
      ],
      "execution_count": null,
      "outputs": [
        {
          "output_type": "error",
          "ename": "ValueError",
          "evalue": "ignored",
          "traceback": [
            "\u001b[0;31m---------------------------------------------------------------------------\u001b[0m",
            "\u001b[0;31mValueError\u001b[0m                                Traceback (most recent call last)",
            "\u001b[0;32m<ipython-input-18-327df786470c>\u001b[0m in \u001b[0;36m<module>\u001b[0;34m()\u001b[0m\n\u001b[1;32m      1\u001b[0m \u001b[0;31m#index returns the index of the first element with the specified values\u001b[0m\u001b[0;34m\u001b[0m\u001b[0;34m\u001b[0m\u001b[0;34m\u001b[0m\u001b[0m\n\u001b[1;32m      2\u001b[0m \u001b[0mlst\u001b[0m\u001b[0;34m=\u001b[0m\u001b[0;34m[\u001b[0m\u001b[0;34m\"suneetha\"\u001b[0m\u001b[0;34m,\u001b[0m \u001b[0;36m20\u001b[0m\u001b[0;34m,\u001b[0m\u001b[0;36m19.63\u001b[0m\u001b[0;34m,\u001b[0m \u001b[0;34m[\u001b[0m\u001b[0;36m8\u001b[0m\u001b[0;34m,\u001b[0m\u001b[0;36m9\u001b[0m\u001b[0;34m,\u001b[0m\u001b[0;36m6\u001b[0m\u001b[0;34m]\u001b[0m\u001b[0;34m]\u001b[0m\u001b[0;34m\u001b[0m\u001b[0;34m\u001b[0m\u001b[0m\n\u001b[0;32m----> 3\u001b[0;31m \u001b[0mlst\u001b[0m\u001b[0;34m.\u001b[0m\u001b[0mindex\u001b[0m\u001b[0;34m(\u001b[0m\u001b[0;36m1\u001b[0m\u001b[0;34m)\u001b[0m\u001b[0;34m\u001b[0m\u001b[0;34m\u001b[0m\u001b[0m\n\u001b[0m",
            "\u001b[0;31mValueError\u001b[0m: 1 is not in list"
          ]
        }
      ]
    },
    {
      "cell_type": "code",
      "metadata": {
        "id": "S-QsJb92OWWX",
        "colab_type": "code",
        "colab": {
          "base_uri": "https://localhost:8080/",
          "height": 166
        },
        "outputId": "a28eef5c-f66a-4d69-a68d-cfef6db9fa35"
      },
      "source": [
        "#clear() Removes all the elements from the list \n",
        "#Initialize a list\n",
        "listtoclear = [\"suneetha\", 20,19.63, [8,9,6]] \n",
        "# clearing the list\n",
        " listtoclear[:]   \n",
        "print('list after clear() :', list to clear)"
      ],
      "execution_count": null,
      "outputs": [
        {
          "output_type": "error",
          "ename": "IndentationError",
          "evalue": "ignored",
          "traceback": [
            "\u001b[0;36m  File \u001b[0;32m\"<ipython-input-24-ff4d5935ea64>\"\u001b[0;36m, line \u001b[0;32m5\u001b[0m\n\u001b[0;31m    listtoclear[:]\u001b[0m\n\u001b[0m    ^\u001b[0m\n\u001b[0;31mIndentationError\u001b[0m\u001b[0;31m:\u001b[0m unexpected indent\n"
          ]
        }
      ]
    },
    {
      "cell_type": "code",
      "metadata": {
        "id": "bPZmBsDQQCp2",
        "colab_type": "code",
        "colab": {
          "base_uri": "https://localhost:8080/",
          "height": 339
        },
        "outputId": "f4e279c5-99c3-43a5-8c07-f8a2307627d4"
      },
      "source": [
        "#pop() Removes the elements at the specified position \n",
        "list=['1','2','3'] \n",
        "print(1)\n",
        "list.pop(2)\n",
        "print(\"After poping:\") \n",
        "Print(1)"
      ],
      "execution_count": null,
      "outputs": [
        {
          "output_type": "stream",
          "text": [
            "1\n",
            "After poping:\n"
          ],
          "name": "stdout"
        },
        {
          "output_type": "error",
          "ename": "NameError",
          "evalue": "ignored",
          "traceback": [
            "\u001b[0;31m---------------------------------------------------------------------------\u001b[0m",
            "\u001b[0;31mNameError\u001b[0m                                 Traceback (most recent call last)",
            "\u001b[0;32m<ipython-input-31-c6bd094b746c>\u001b[0m in \u001b[0;36m<module>\u001b[0;34m()\u001b[0m\n\u001b[1;32m      4\u001b[0m \u001b[0mlist\u001b[0m\u001b[0;34m.\u001b[0m\u001b[0mpop\u001b[0m\u001b[0;34m(\u001b[0m\u001b[0;36m2\u001b[0m\u001b[0;34m)\u001b[0m\u001b[0;34m\u001b[0m\u001b[0;34m\u001b[0m\u001b[0m\n\u001b[1;32m      5\u001b[0m \u001b[0mprint\u001b[0m\u001b[0;34m(\u001b[0m\u001b[0;34m\"After poping:\"\u001b[0m\u001b[0;34m)\u001b[0m\u001b[0;34m\u001b[0m\u001b[0;34m\u001b[0m\u001b[0m\n\u001b[0;32m----> 6\u001b[0;31m \u001b[0mPrint\u001b[0m\u001b[0;34m(\u001b[0m\u001b[0;36m1\u001b[0m\u001b[0;34m)\u001b[0m\u001b[0;34m\u001b[0m\u001b[0;34m\u001b[0m\u001b[0m\n\u001b[0m",
            "\u001b[0;31mNameError\u001b[0m: name 'Print' is not defined"
          ]
        }
      ]
    },
    {
      "cell_type": "code",
      "metadata": {
        "id": "FTq8kbBbSTpZ",
        "colab_type": "code",
        "colab": {}
      },
      "source": [
        "#reverse() \n",
        "#reverse() Reverse the order of\n",
        " the list \n",
        "list. reverse ()"
      ],
      "execution_count": null,
      "outputs": []
    },
    {
      "cell_type": "code",
      "metadata": {
        "id": "yCWbhiiptxk4",
        "colab_type": "code",
        "colab": {}
      },
      "source": [
        "#Dictionary \n",
        "# This is a KEY Value pair data structure, \n",
        "It is complex."
      ],
      "execution_count": null,
      "outputs": []
    },
    {
      "cell_type": "code",
      "metadata": {
        "id": "FxyaQIDJuBnh",
        "colab_type": "code",
        "colab": {}
      },
      "source": [
        "#Methods of Dictionary \n",
        "#dit.get () \n",
        "#Returns value or default if key \n",
        "not in dictionary"
      ],
      "execution_count": null,
      "outputs": []
    },
    {
      "cell_type": "code",
      "metadata": {
        "id": "dyaEgMKouRQ8",
        "colab_type": "code",
        "colab": {}
      },
      "source": [
        "#dit.items() \n",
        "#Returns a list dict's tuple pair"
      ],
      "execution_count": null,
      "outputs": []
    },
    {
      "cell_type": "code",
      "metadata": {
        "id": "D1pr20FiucbR",
        "colab_type": "code",
        "colab": {}
      },
      "source": [
        "#dit.keys() \n",
        "# returns list of dictionary dict's \n",
        "Keys"
      ],
      "execution_count": null,
      "outputs": []
    },
    {
      "cell_type": "code",
      "metadata": {
        "id": "MlbAwtHGuoR5",
        "colab_type": "code",
        "colab": {}
      },
      "source": [
        "#dit.pop() \n",
        "# Removes the elements at the specified \n",
        "Position"
      ],
      "execution_count": null,
      "outputs": []
    },
    {
      "cell_type": "code",
      "metadata": {
        "id": "00n70_b-u2FM",
        "colab_type": "code",
        "colab": {}
      },
      "source": [
        "#dit.has(key)\n",
        "#Returns true if key in dictionary \n",
        "dict, false otherwise."
      ],
      "execution_count": null,
      "outputs": []
    },
    {
      "cell_type": "code",
      "metadata": {
        "id": "YTAJ0yD6vIkh",
        "colab_type": "code",
        "colab": {}
      },
      "source": [
        ""
      ],
      "execution_count": null,
      "outputs": []
    },
    {
      "cell_type": "code",
      "metadata": {
        "id": "yhjxf4XrvIqg",
        "colab_type": "code",
        "colab": {}
      },
      "source": [
        "#Tuple \n",
        "#It is a ordered immutable sequence \n",
        "of object"
      ],
      "execution_count": null,
      "outputs": []
    },
    {
      "cell_type": "code",
      "metadata": {
        "id": "i6nBU7HGvgKs",
        "colab_type": "code",
        "colab": {}
      },
      "source": [
        "#Methods of Tuples\n",
        "# cmp(tuple1, tuple2) \n",
        "# compares elements of both tuples"
      ],
      "execution_count": null,
      "outputs": []
    },
    {
      "cell_type": "code",
      "metadata": {
        "id": "uqMFYaxcv8gJ",
        "colab_type": "code",
        "colab": {}
      },
      "source": [
        "#len(tuple) \n",
        "#Gives the total length of the\n",
        " tuple"
      ],
      "execution_count": null,
      "outputs": []
    },
    {
      "cell_type": "code",
      "metadata": {
        "id": "BaEMtbzFwkIF",
        "colab_type": "code",
        "colab": {}
      },
      "source": [
        "#max(tuple) \n",
        "# Returns item from the tuple with\n",
        " Max value"
      ],
      "execution_count": null,
      "outputs": []
    },
    {
      "cell_type": "code",
      "metadata": {
        "id": "WG3sDbXQww7f",
        "colab_type": "code",
        "colab": {}
      },
      "source": [
        "#min(tuple) \n",
        "#Returns item from the tuple with\n",
        " min value"
      ],
      "execution_count": null,
      "outputs": []
    },
    {
      "cell_type": "code",
      "metadata": {
        "id": "KVPTnBZ_w8ME",
        "colab_type": "code",
        "colab": {}
      },
      "source": [
        "#tuple(seq) \n",
        "# Convert a list into tuple."
      ],
      "execution_count": null,
      "outputs": []
    },
    {
      "cell_type": "code",
      "metadata": {
        "id": "L8QTKPizxG_9",
        "colab_type": "code",
        "colab": {}
      },
      "source": [
        "#Sets\n",
        "#A set is a type of data that store\n",
        "s a set of things"
      ],
      "execution_count": null,
      "outputs": []
    },
    {
      "cell_type": "code",
      "metadata": {
        "id": "j2Mk3XSdxZQ_",
        "colab_type": "code",
        "colab": {}
      },
      "source": [
        "#Methods of sets\n",
        "# add() \n",
        "# Adds an element to the set"
      ],
      "execution_count": null,
      "outputs": []
    },
    {
      "cell_type": "code",
      "metadata": {
        "id": "CTXmADAfxjUH",
        "colab_type": "code",
        "colab": {}
      },
      "source": [
        "#clear() \n",
        "# Removes all the elements from \n",
        "the set"
      ],
      "execution_count": null,
      "outputs": []
    },
    {
      "cell_type": "code",
      "metadata": {
        "id": "J5vQ0FUHxxZE",
        "colab_type": "code",
        "colab": {}
      },
      "source": [
        "#copy() \n",
        "#Returns a copy of the set."
      ],
      "execution_count": null,
      "outputs": []
    },
    {
      "cell_type": "code",
      "metadata": {
        "id": "yewnADq2x7Tf",
        "colab_type": "code",
        "colab": {}
      },
      "source": [
        "#pop() \n",
        "#Removes an element from the set."
      ],
      "execution_count": null,
      "outputs": []
    },
    {
      "cell_type": "code",
      "metadata": {
        "id": "n_LxXoJ1yC1-",
        "colab_type": "code",
        "colab": {}
      },
      "source": [
        "#remove() \n",
        "#Removes the specified element"
      ],
      "execution_count": null,
      "outputs": []
    },
    {
      "cell_type": "code",
      "metadata": {
        "id": "mwEMreslyLf_",
        "colab_type": "code",
        "colab": {}
      },
      "source": [
        "#Strings\n",
        "# A string is a type of value that\n",
        " can be stored in a variable"
      ],
      "execution_count": null,
      "outputs": []
    },
    {
      "cell_type": "code",
      "metadata": {
        "id": "Py-XPrvcycFi",
        "colab_type": "code",
        "colab": {}
      },
      "source": [
        "#Methods of strings \n",
        "# centre() \n",
        "# Returns a centred string"
      ],
      "execution_count": null,
      "outputs": []
    },
    {
      "cell_type": "code",
      "metadata": {
        "id": "HKOnCVmKymvJ",
        "colab_type": "code",
        "colab": {}
      },
      "source": [
        "#casefold() \n",
        "# Converts string in to lower case"
      ],
      "execution_count": null,
      "outputs": []
    },
    {
      "cell_type": "code",
      "metadata": {
        "id": "jkge6Rssyxta",
        "colab_type": "code",
        "colab": {}
      },
      "source": [
        "#isidentifier() \n",
        "#Returns true if the string is an \n",
        "identifier"
      ],
      "execution_count": null,
      "outputs": []
    },
    {
      "cell_type": "code",
      "metadata": {
        "id": "dftD5oCMzAjL",
        "colab_type": "code",
        "colab": {}
      },
      "source": [
        "#lower() \n",
        "# Converts a string into lower case"
      ],
      "execution_count": null,
      "outputs": []
    },
    {
      "cell_type": "code",
      "metadata": {
        "id": "hrVamtaKzURv",
        "colab_type": "code",
        "colab": {}
      },
      "source": [
        "#lstrip() \n",
        "#Returns a left trim version of the \n",
        "string"
      ],
      "execution_count": null,
      "outputs": []
    }
  ]
}